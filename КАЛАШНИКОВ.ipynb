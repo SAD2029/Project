{
  "cells": [
    {
      "cell_type": "code",
      "execution_count": null,
      "metadata": {
        "colab": {
          "base_uri": "https://localhost:8080/"
        },
        "id": "LFOKvYAveYNb",
        "outputId": "7d4ff889-59ae-4534-f94e-fc779f8f3f4c"
      },
      "outputs": [
        {
          "output_type": "stream",
          "name": "stdout",
          "text": [
            "Mounted at /content/drive\n"
          ]
        }
      ],
      "source": [
        "from google.colab import drive\n",
        "drive.mount('/content/drive')"
      ]
    },
    {
      "cell_type": "code",
      "execution_count": null,
      "metadata": {
        "id": "Az4DjscTh_NO"
      },
      "outputs": [],
      "source": [
        "pip install cython pillow>=7.0.0 numpy>=1.18.1 opencv-python>=4.1.2 torch>=1.9.0 --extra-index-url https://download.pytorch.org/whl/cpu torchvision>=0.10.0 --extra-index-url https://download.pytorch.org/whl/cpu pytest==7.1.3 tqdm==4.64.1 scipy>=1.7.3 matplotlib>=3.4.3 mock==4.0.3"
      ]
    },
    {
      "cell_type": "code",
      "execution_count": null,
      "metadata": {
        "colab": {
          "base_uri": "https://localhost:8080/"
        },
        "id": "0uMyqKizkJZ3",
        "outputId": "8cd6ce7d-cee1-4829-abb5-547c78a9a16a"
      },
      "outputs": [
        {
          "output_type": "stream",
          "name": "stdout",
          "text": [
            "Collecting imageai\n",
            "  Downloading imageai-3.0.3-py3-none-any.whl (69 kB)\n",
            "\u001b[2K     \u001b[90m━━━━━━━━━━━━━━━━━━━━━━━━━━━━━━━━━━━━━━━━\u001b[0m \u001b[32m69.8/69.8 kB\u001b[0m \u001b[31m2.0 MB/s\u001b[0m eta \u001b[36m0:00:00\u001b[0m\n",
            "\u001b[?25hInstalling collected packages: imageai\n",
            "Successfully installed imageai-3.0.3\n"
          ]
        }
      ],
      "source": [
        "pip install imageai"
      ]
    },
    {
      "cell_type": "code",
      "execution_count": null,
      "metadata": {
        "id": "pVDo_QtVkX_Q"
      },
      "outputs": [],
      "source": [
        "import random\n",
        "from imutils.video import VideoStream\n",
        "from imutils.video import FPS\n",
        "import cv2\n",
        "from matplotlib import pyplot as plt\n",
        "import numpy as np\n",
        "import imutils\n",
        "import time\n",
        "from imageai.Detection import ObjectDetection\n",
        "from google.colab.patches import cv2_imshow\n",
        "from IPython.display import HTML\n",
        "from base64 import b64encode"
      ]
    },
    {
      "cell_type": "code",
      "execution_count": null,
      "metadata": {
        "id": "92yJr9u-k-rg"
      },
      "outputs": [],
      "source": [
        "detector = ObjectDetection()\n",
        "detector.setModelTypeAsYOLOv3()\n",
        "detector.setModelPath(\"/content/drive/MyDrive/yolov3.pt\")\n",
        "detector.loadModel()\n",
        "custom = detector.CustomObjects(person=True)"
      ]
    },
    {
      "cell_type": "code",
      "execution_count": null,
      "metadata": {
        "id": "jg-0iOQqmdRQ"
      },
      "outputs": [],
      "source": [
        "video_capture = cv2.VideoCapture(\"video_s.mp4\")\n",
        "fourcc = cv2.VideoWriter_fourcc(*'XVID')\n",
        "width = int(video_capture.get(cv2.CAP_PROP_FRAME_WIDTH))\n",
        "height = int(video_capture.get(cv2.CAP_PROP_FRAME_HEIGHT))\n",
        "out = cv2.VideoWriter('output.mp4', fourcc, 20.0, (width, height))"
      ]
    },
    {
      "cell_type": "code",
      "execution_count": null,
      "metadata": {
        "id": "YabNz3lnlVPI"
      },
      "outputs": [],
      "source": [
        "for i in range(int(video_capture.get(cv2.CAP_PROP_FRAME_COUNT))):\n",
        "  ret, frame = video_capture.read()\n",
        "  if i % 10 == 0:\n",
        "    detections = detector.detectObjectsFromImage(input_image=frame, output_image_path=\"imagenew.jpg\", custom_objects = custom)\n",
        "    print(len(detections))\n",
        "    img = cv2.imread(\"imagenew.jpg\")\n",
        "    out.write(img)"
      ]
    },
    {
      "cell_type": "code",
      "execution_count": null,
      "metadata": {
        "id": "_yrijOu6677c"
      },
      "outputs": [],
      "source": [
        "out.release()"
      ]
    },
    {
      "cell_type": "code",
      "execution_count": 183,
      "metadata": {
        "id": "hoM_7OXNey63"
      },
      "outputs": [],
      "source": [
        "import random\n",
        "t = 0.0\n",
        "for i in range(100000):\n",
        "  t += random.randint(10, 50)\n",
        "t = t / 100000.0\n",
        "t = t / 60"
      ]
    },
    {
      "cell_type": "code",
      "source": [
        "m = 0.0\n",
        "for i in range(100000):\n",
        "  m += random.randint(5, 20)\n",
        "m = m / 100000.0"
      ],
      "metadata": {
        "id": "AtljY32jgkKD"
      },
      "execution_count": 184,
      "outputs": []
    },
    {
      "cell_type": "code",
      "source": [
        "la = 0.0\n",
        "for i in range(100000):\n",
        "  la += random.randint(5, 20)\n",
        "la = la / 100000.0"
      ],
      "metadata": {
        "id": "3Tae4U_Oa2cG"
      },
      "execution_count": 189,
      "outputs": []
    },
    {
      "cell_type": "code",
      "source": [
        "p = t * la\n",
        "p"
      ],
      "metadata": {
        "colab": {
          "base_uri": "https://localhost:8080/"
        },
        "id": "0yRUBedNbhTk",
        "outputId": "9f8ca377-ad73-4442-cad6-66a92435f425"
      },
      "execution_count": 190,
      "outputs": [
        {
          "output_type": "execute_result",
          "data": {
            "text/plain": [
              "6.256626132666667"
            ]
          },
          "metadata": {},
          "execution_count": 190
        }
      ]
    },
    {
      "cell_type": "code",
      "source": [
        "p0 = 1.0 + p + ( (p ** 2) * (1 - (p**m)) / (1 - p))\n",
        "p0 = 1.0 / p0\n",
        "p0"
      ],
      "metadata": {
        "colab": {
          "base_uri": "https://localhost:8080/"
        },
        "id": "9Tly0op4cA2Q",
        "outputId": "967d114a-da11-423c-cd50-4b4208dee8ce"
      },
      "execution_count": 191,
      "outputs": [
        {
          "output_type": "execute_result",
          "data": {
            "text/plain": [
              "1.461769874472218e-11"
            ]
          },
          "metadata": {},
          "execution_count": 191
        }
      ]
    },
    {
      "cell_type": "code",
      "source": [
        "p_otk = (p ** (m + 1)) * p0\n",
        "p_otk"
      ],
      "metadata": {
        "colab": {
          "base_uri": "https://localhost:8080/"
        },
        "id": "zyvSHFsFiuTD",
        "outputId": "bca5c62e-6637-4016-9a8d-a9ad4830a9a5"
      },
      "execution_count": 192,
      "outputs": [
        {
          "output_type": "execute_result",
          "data": {
            "text/plain": [
              "0.840169449351584"
            ]
          },
          "metadata": {},
          "execution_count": 192
        }
      ]
    },
    {
      "cell_type": "code",
      "source": [
        "print(\"Вероятность отказа заявки: \", int(p_otk * 100), \"%\", sep = '')\n",
        "#print(\"Среднее время обслуживания:\", int(t * 60), \"секунд\")\n",
        "print(\"Время ожидания в очереди:\", int(t * len(detections)), \"минут\")\n",
        "print(\"Количество людей в очереди:\", len(detections))"
      ],
      "metadata": {
        "colab": {
          "base_uri": "https://localhost:8080/"
        },
        "id": "EwQgZtkdk6m7",
        "outputId": "c3b1c074-5984-4025-b495-ff537c65b148"
      },
      "execution_count": 193,
      "outputs": [
        {
          "output_type": "stream",
          "name": "stdout",
          "text": [
            "Вероятность отказа заявки: 84%\n"
          ]
        }
      ]
    }
  ],
  "metadata": {
    "colab": {
      "provenance": []
    },
    "kernelspec": {
      "display_name": "Python 3",
      "name": "python3"
    },
    "language_info": {
      "name": "python"
    }
  },
  "nbformat": 4,
  "nbformat_minor": 0
}